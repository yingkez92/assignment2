{
  "cells": [
    {
      "metadata": {
        "trusted": true
      },
      "cell_type": "code",
      "source": "text<-\"ACGTTGCATGTCGCATGATGCATGAGAGCT\"\nk<-4\npattern_count <- function(text, pattern) {\ncount <- 0\npattern_length <- nchar(pattern)\nfor (i in 0:(nchar(text) - pattern_length)) {\nif (substr(rep(text), i + 1, i + pattern_length) == pattern)\ncount <- count + 1\n}\n\nreturn(count)\n\n}\nfrequent_words <- function(text, k) {\nfrequent_patterns <- {}\ncount <- {}\nfor (i in 0:(nchar(text) - k)) {\npattern <- substr(text, i + 1, i + k)\ncount[i + 1] <- pattern_count(text, pattern)\n}\nmax_count <- max(count)\nfor (i in 0:(nchar(text) - k)) {\nif (count[i + 1] == max_count)\nfrequent_patterns <- append(frequent_patterns, substr(text, i + 1, i + k))\n}\n\nreturn(unique(frequent_patterns))\n\n}\nfrequent_words(text,k)\n\n",
      "execution_count": 23,
      "outputs": [
        {
          "output_type": "display_data",
          "data": {
            "text/plain": "[1] \"GCAT\" \"CATG\"",
            "text/latex": "\\begin{enumerate*}\n\\item 'GCAT'\n\\item 'CATG'\n\\end{enumerate*}\n",
            "text/markdown": "1. 'GCAT'\n2. 'CATG'\n\n\n",
            "text/html": "<ol class=list-inline>\n\t<li>'GCAT'</li>\n\t<li>'CATG'</li>\n</ol>\n"
          },
          "metadata": {}
        }
      ]
    },
    {
      "metadata": {
        "trusted": true,
        "scrolled": true
      },
      "cell_type": "code",
      "source": "text<-\"CGGAAGCGAGATTCGCGTGGCGTGATTCCGGCGGGCGTGGAGAAGCGAGATTCATTCAAGCCGGGAGGCGTGGCGTGGCGTGGCGTGCGGATTCAAGCCGGCGGGCGTGATTCGAGCGGCGGATTCGAGATTCCGGGCGTGCGGGCGTGAAGCGCGTGGAGGAGGCGTGGCGTGCGGGAGGAGAAGCGAGAAGCCGGATTCAAGCAAGCATTCCGGCGGGAGATTCGCGTGGAGGCGTGGAGGCGTGGAGGCGTGCGGCGGGAGATTCAAGCCGGATTCGCGTGGAGAAGCGAGAAGCGCGTGCGGAAGCGAGGAGGAGAAGCATTCGCGTGATTCCGGGAGATTCAAGCATTCGCGTGCGGCGGGAGATTCAAGCGAGGAGGCGTGAAGCAAGCAAGCAAGCGCGTGGCGTGCGGCGGGAGAAGCAAGCGCGTGATTCGAGCGGGCGTGCGGAAGCGAGCGG\n\"\nk<-12\n# first of all,I created a new function called Pattern_count, this function consists of two parameters \"text\" and \"pattern\"\npattern_count <- function(text, pattern) {\n# then, I gave the variable \"count\" in this funtion a start value 0\ncount <- 0\n#Next, I used the funtion named nachar to count the number of characters in my parameter \"pattern\" and I assign the results of nchar to the new variable \"pattern_length\"\npattern_length <- nchar(pattern)\n # the following process were repeated in condition that the variable i is in the range between the position zero and pattern minus length of the pattern.\nfor (i in 0:(nchar(text) - pattern_length)) {\n# from here is the mentioned following process-if condition\n#using the function substr (Reference: https://www.rdocumentation.org/packages/base/versions/3.6.0/topics/substr),all the substrings in the same length as the parameter \"pattern\" were comparaed with the \"pattern\"\nif (substr(rep(text), i + 1, i + pattern_length) == pattern)\n# if the substring during scanning is same to the pattern, the variable \"count\" increases by 1 and the new value was returned to the variable \"count\"\ncount <- count + 1\n}\n# it's time to go back to the first step count\nreturn(count)\n\n}\n# the function \"frequent_words\" was defined with two parameters \"text\" and \"k\"\nfrequent_words <- function(text, k) {\n# I assigned a empty list to the variable \"frequent_pattern\" for the most frequent patterns in a given sequence\nfrequent_patterns <- {}\n# the same was done to the variable count\ncount <- {}\n#the for-loop repeated again and again until i goes to the nchar(text)-k(nchar counts the number of characters in parameter \"text\"\nfor (i in 0:(nchar(text) - k)) {\n# the section from the first letter that i+1 is located in to the last one of postion i+k was assigned to the variable pattern\npattern <- substr(text, i + 1, i + k)\n# the results of pattern_count was assigned to a subset of variable count in this function\ncount[i + 1] <- pattern_count(text, pattern)\n}\n# to find out the maximum value of variable count and it was assigned to the variable max_count\nmax_count <- max(count)\n# for i in the range from zero to the position nchar(text) minus k\nfor (i in 0:(nchar(text) - k)) {\n# if count[i+1] is equal to the maximum value of the count\nif (count[i + 1] == max_count)\n# then the pattern will be put in the list of most frequent patterns \nfrequent_patterns <- append(frequent_patterns, substr(text, i + 1, i + k))\n}\n# remove the duplicates and go back to the first step\nreturn(unique(frequent_patterns))\n}\n# show the result of most frequent patterns\nfrequent_words(text,k)\n",
      "execution_count": 35,
      "outputs": [
        {
          "output_type": "display_data",
          "data": {
            "text/plain": " [1] \"GGAGAAGCGAGA\" \"GCGTGGCGTGCG\" \"CGTGGCGTGCGG\" \"CGGCGGGAGATT\" \"GGCGGGAGATTC\"\n [6] \"GCGTGGAGGCGT\" \"CGTGGAGGCGTG\" \"GCGTGCGGCGGG\" \"CGTGCGGCGGGA\" \"GTGCGGCGGGAG\"\n[11] \"TGCGGCGGGAGA\" \"CGGGAGATTCAA\" \"GGGAGATTCAAG\" \"GGAGATTCAAGC\"",
            "text/latex": "\\begin{enumerate*}\n\\item 'GGAGAAGCGAGA'\n\\item 'GCGTGGCGTGCG'\n\\item 'CGTGGCGTGCGG'\n\\item 'CGGCGGGAGATT'\n\\item 'GGCGGGAGATTC'\n\\item 'GCGTGGAGGCGT'\n\\item 'CGTGGAGGCGTG'\n\\item 'GCGTGCGGCGGG'\n\\item 'CGTGCGGCGGGA'\n\\item 'GTGCGGCGGGAG'\n\\item 'TGCGGCGGGAGA'\n\\item 'CGGGAGATTCAA'\n\\item 'GGGAGATTCAAG'\n\\item 'GGAGATTCAAGC'\n\\end{enumerate*}\n",
            "text/markdown": "1. 'GGAGAAGCGAGA'\n2. 'GCGTGGCGTGCG'\n3. 'CGTGGCGTGCGG'\n4. 'CGGCGGGAGATT'\n5. 'GGCGGGAGATTC'\n6. 'GCGTGGAGGCGT'\n7. 'CGTGGAGGCGTG'\n8. 'GCGTGCGGCGGG'\n9. 'CGTGCGGCGGGA'\n10. 'GTGCGGCGGGAG'\n11. 'TGCGGCGGGAGA'\n12. 'CGGGAGATTCAA'\n13. 'GGGAGATTCAAG'\n14. 'GGAGATTCAAGC'\n\n\n",
            "text/html": "<ol class=list-inline>\n\t<li>'GGAGAAGCGAGA'</li>\n\t<li>'GCGTGGCGTGCG'</li>\n\t<li>'CGTGGCGTGCGG'</li>\n\t<li>'CGGCGGGAGATT'</li>\n\t<li>'GGCGGGAGATTC'</li>\n\t<li>'GCGTGGAGGCGT'</li>\n\t<li>'CGTGGAGGCGTG'</li>\n\t<li>'GCGTGCGGCGGG'</li>\n\t<li>'CGTGCGGCGGGA'</li>\n\t<li>'GTGCGGCGGGAG'</li>\n\t<li>'TGCGGCGGGAGA'</li>\n\t<li>'CGGGAGATTCAA'</li>\n\t<li>'GGGAGATTCAAG'</li>\n\t<li>'GGAGATTCAAGC'</li>\n</ol>\n"
          },
          "metadata": {}
        }
      ]
    },
    {
      "metadata": {
        "trusted": true
      },
      "cell_type": "code",
      "source": "",
      "execution_count": null,
      "outputs": []
    },
    {
      "metadata": {
        "trusted": true
      },
      "cell_type": "code",
      "source": "",
      "execution_count": null,
      "outputs": []
    },
    {
      "metadata": {
        "trusted": true
      },
      "cell_type": "code",
      "source": "",
      "execution_count": null,
      "outputs": []
    },
    {
      "metadata": {
        "trusted": true
      },
      "cell_type": "code",
      "source": "",
      "execution_count": null,
      "outputs": []
    },
    {
      "metadata": {
        "trusted": true
      },
      "cell_type": "code",
      "source": "",
      "execution_count": null,
      "outputs": []
    },
    {
      "metadata": {
        "trusted": true
      },
      "cell_type": "code",
      "source": "",
      "execution_count": null,
      "outputs": []
    }
  ],
  "metadata": {
    "kernelspec": {
      "name": "r",
      "display_name": "R",
      "language": "R"
    },
    "language_info": {
      "mimetype": "text/x-r-source",
      "name": "R",
      "pygments_lexer": "r",
      "version": "3.4.1",
      "file_extension": ".r",
      "codemirror_mode": "r"
    }
  },
  "nbformat": 4,
  "nbformat_minor": 2
}